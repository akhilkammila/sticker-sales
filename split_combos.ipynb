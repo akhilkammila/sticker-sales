{
 "cells": [
  {
   "cell_type": "code",
   "execution_count": 1,
   "metadata": {},
   "outputs": [],
   "source": [
    "import pandas as pd\n",
    "import numpy as np\n",
    "import matplotlib.pyplot as plt\n",
    "import seaborn as sns\n",
    "import itertools\n",
    "import lightgbm as lgb"
   ]
  },
  {
   "cell_type": "code",
   "execution_count": 2,
   "metadata": {},
   "outputs": [],
   "source": [
    "DIRECTORY = './data/'\n",
    "train = pd.read_csv(DIRECTORY + 'train.csv', parse_dates=['date']).drop(columns='id')\n",
    "test = pd.read_csv(DIRECTORY + 'test.csv', parse_dates=['date']).drop(columns='id')"
   ]
  },
  {
   "cell_type": "code",
   "execution_count": 17,
   "metadata": {},
   "outputs": [
    {
     "ename": "ValueError",
     "evalue": "Length of levels and codes must be the same.",
     "output_type": "error",
     "traceback": [
      "\u001b[0;31m---------------------------------------------------------------------------\u001b[0m",
      "\u001b[0;31mValueError\u001b[0m                                Traceback (most recent call last)",
      "Cell \u001b[0;32mIn[17], line 5\u001b[0m\n\u001b[1;32m      3\u001b[0m pivoted \u001b[38;5;241m=\u001b[39m train\u001b[38;5;241m.\u001b[39mpivot(index\u001b[38;5;241m=\u001b[39m\u001b[38;5;124m'\u001b[39m\u001b[38;5;124mdate\u001b[39m\u001b[38;5;124m'\u001b[39m, columns\u001b[38;5;241m=\u001b[39m[\u001b[38;5;124m'\u001b[39m\u001b[38;5;124mcountry\u001b[39m\u001b[38;5;124m'\u001b[39m, \u001b[38;5;124m'\u001b[39m\u001b[38;5;124mstore\u001b[39m\u001b[38;5;124m'\u001b[39m, \u001b[38;5;124m'\u001b[39m\u001b[38;5;124mproduct\u001b[39m\u001b[38;5;124m'\u001b[39m], values\u001b[38;5;241m=\u001b[39m\u001b[38;5;124m'\u001b[39m\u001b[38;5;124mnum_sold\u001b[39m\u001b[38;5;124m'\u001b[39m)\u001b[38;5;241m.\u001b[39mreset_index()\n\u001b[1;32m      4\u001b[0m \u001b[38;5;28;01mfor\u001b[39;00m col \u001b[38;5;129;01min\u001b[39;00m pivoted\u001b[38;5;241m.\u001b[39mcolumns:\n\u001b[0;32m----> 5\u001b[0m     sns\u001b[38;5;241m.\u001b[39mscatterplot(data\u001b[38;5;241m=\u001b[39mpivoted, x\u001b[38;5;241m=\u001b[39m\u001b[43mpd\u001b[49m\u001b[38;5;241;43m.\u001b[39;49m\u001b[43mMultiIndex\u001b[49m\u001b[43m(\u001b[49m\u001b[38;5;124;43m'\u001b[39;49m\u001b[38;5;124;43mdate\u001b[39;49m\u001b[38;5;124;43m'\u001b[39;49m\u001b[43m,\u001b[49m\u001b[43m \u001b[49m\u001b[38;5;124;43m'\u001b[39;49m\u001b[38;5;124;43m'\u001b[39;49m\u001b[43m,\u001b[49m\u001b[43m \u001b[49m\u001b[38;5;124;43m'\u001b[39;49m\u001b[38;5;124;43m'\u001b[39;49m\u001b[43m)\u001b[49m, y\u001b[38;5;241m=\u001b[39mcol)\n\u001b[1;32m      6\u001b[0m     plt\u001b[38;5;241m.\u001b[39mtitle(col)\n\u001b[1;32m      7\u001b[0m     plt\u001b[38;5;241m.\u001b[39mshow()\n",
      "File \u001b[0;32m~/miniconda3/envs/tradingClub/lib/python3.12/site-packages/pandas/core/indexes/multi.py:342\u001b[0m, in \u001b[0;36mMultiIndex.__new__\u001b[0;34m(cls, levels, codes, sortorder, names, dtype, copy, name, verify_integrity)\u001b[0m\n\u001b[1;32m    340\u001b[0m     \u001b[38;5;28;01mraise\u001b[39;00m \u001b[38;5;167;01mTypeError\u001b[39;00m(\u001b[38;5;124m\"\u001b[39m\u001b[38;5;124mMust pass both levels and codes\u001b[39m\u001b[38;5;124m\"\u001b[39m)\n\u001b[1;32m    341\u001b[0m \u001b[38;5;28;01mif\u001b[39;00m \u001b[38;5;28mlen\u001b[39m(levels) \u001b[38;5;241m!=\u001b[39m \u001b[38;5;28mlen\u001b[39m(codes):\n\u001b[0;32m--> 342\u001b[0m     \u001b[38;5;28;01mraise\u001b[39;00m \u001b[38;5;167;01mValueError\u001b[39;00m(\u001b[38;5;124m\"\u001b[39m\u001b[38;5;124mLength of levels and codes must be the same.\u001b[39m\u001b[38;5;124m\"\u001b[39m)\n\u001b[1;32m    343\u001b[0m \u001b[38;5;28;01mif\u001b[39;00m \u001b[38;5;28mlen\u001b[39m(levels) \u001b[38;5;241m==\u001b[39m \u001b[38;5;241m0\u001b[39m:\n\u001b[1;32m    344\u001b[0m     \u001b[38;5;28;01mraise\u001b[39;00m \u001b[38;5;167;01mValueError\u001b[39;00m(\u001b[38;5;124m\"\u001b[39m\u001b[38;5;124mMust pass non-zero number of levels/codes\u001b[39m\u001b[38;5;124m\"\u001b[39m)\n",
      "\u001b[0;31mValueError\u001b[0m: Length of levels and codes must be the same."
     ]
    }
   ],
   "source": [
    "# Per store, product, country - what does it look like?\n",
    "\n",
    "pivoted = train.pivot(index='date', columns=['country', 'store', 'product'], values='num_sold').reset_index()\n",
    "for col in pivoted.columns:\n",
    "    sns.scatterplot(data=pivoted, x=pd.MultiIndex('date', '', ''), y=col)\n",
    "    plt.title(col)\n",
    "    plt.show()"
   ]
  },
  {
   "cell_type": "code",
   "execution_count": 15,
   "metadata": {},
   "outputs": [
    {
     "data": {
      "text/plain": [
       "MultiIndex([(     'date',                     '',                   ''),\n",
       "            (   'Canada',    'Discount Stickers',  'Holographic Goose'),\n",
       "            (   'Canada',    'Discount Stickers',             'Kaggle'),\n",
       "            (   'Canada',    'Discount Stickers',       'Kaggle Tiers'),\n",
       "            (   'Canada',    'Discount Stickers',           'Kerneler'),\n",
       "            (   'Canada',    'Discount Stickers', 'Kerneler Dark Mode'),\n",
       "            (   'Canada',    'Stickers for Less',  'Holographic Goose'),\n",
       "            (   'Canada',    'Stickers for Less',             'Kaggle'),\n",
       "            (   'Canada',    'Stickers for Less',       'Kaggle Tiers'),\n",
       "            (   'Canada',    'Stickers for Less',           'Kerneler'),\n",
       "            (   'Canada',    'Stickers for Less', 'Kerneler Dark Mode'),\n",
       "            (   'Canada', 'Premium Sticker Mart',  'Holographic Goose'),\n",
       "            (   'Canada', 'Premium Sticker Mart',             'Kaggle'),\n",
       "            (   'Canada', 'Premium Sticker Mart',       'Kaggle Tiers'),\n",
       "            (   'Canada', 'Premium Sticker Mart',           'Kerneler'),\n",
       "            (   'Canada', 'Premium Sticker Mart', 'Kerneler Dark Mode'),\n",
       "            (  'Finland',    'Discount Stickers',  'Holographic Goose'),\n",
       "            (  'Finland',    'Discount Stickers',             'Kaggle'),\n",
       "            (  'Finland',    'Discount Stickers',       'Kaggle Tiers'),\n",
       "            (  'Finland',    'Discount Stickers',           'Kerneler'),\n",
       "            (  'Finland',    'Discount Stickers', 'Kerneler Dark Mode'),\n",
       "            (  'Finland',    'Stickers for Less',  'Holographic Goose'),\n",
       "            (  'Finland',    'Stickers for Less',             'Kaggle'),\n",
       "            (  'Finland',    'Stickers for Less',       'Kaggle Tiers'),\n",
       "            (  'Finland',    'Stickers for Less',           'Kerneler'),\n",
       "            (  'Finland',    'Stickers for Less', 'Kerneler Dark Mode'),\n",
       "            (  'Finland', 'Premium Sticker Mart',  'Holographic Goose'),\n",
       "            (  'Finland', 'Premium Sticker Mart',             'Kaggle'),\n",
       "            (  'Finland', 'Premium Sticker Mart',       'Kaggle Tiers'),\n",
       "            (  'Finland', 'Premium Sticker Mart',           'Kerneler'),\n",
       "            (  'Finland', 'Premium Sticker Mart', 'Kerneler Dark Mode'),\n",
       "            (    'Italy',    'Discount Stickers',  'Holographic Goose'),\n",
       "            (    'Italy',    'Discount Stickers',             'Kaggle'),\n",
       "            (    'Italy',    'Discount Stickers',       'Kaggle Tiers'),\n",
       "            (    'Italy',    'Discount Stickers',           'Kerneler'),\n",
       "            (    'Italy',    'Discount Stickers', 'Kerneler Dark Mode'),\n",
       "            (    'Italy',    'Stickers for Less',  'Holographic Goose'),\n",
       "            (    'Italy',    'Stickers for Less',             'Kaggle'),\n",
       "            (    'Italy',    'Stickers for Less',       'Kaggle Tiers'),\n",
       "            (    'Italy',    'Stickers for Less',           'Kerneler'),\n",
       "            (    'Italy',    'Stickers for Less', 'Kerneler Dark Mode'),\n",
       "            (    'Italy', 'Premium Sticker Mart',  'Holographic Goose'),\n",
       "            (    'Italy', 'Premium Sticker Mart',             'Kaggle'),\n",
       "            (    'Italy', 'Premium Sticker Mart',       'Kaggle Tiers'),\n",
       "            (    'Italy', 'Premium Sticker Mart',           'Kerneler'),\n",
       "            (    'Italy', 'Premium Sticker Mart', 'Kerneler Dark Mode'),\n",
       "            (    'Kenya',    'Discount Stickers',  'Holographic Goose'),\n",
       "            (    'Kenya',    'Discount Stickers',             'Kaggle'),\n",
       "            (    'Kenya',    'Discount Stickers',       'Kaggle Tiers'),\n",
       "            (    'Kenya',    'Discount Stickers',           'Kerneler'),\n",
       "            (    'Kenya',    'Discount Stickers', 'Kerneler Dark Mode'),\n",
       "            (    'Kenya',    'Stickers for Less',  'Holographic Goose'),\n",
       "            (    'Kenya',    'Stickers for Less',             'Kaggle'),\n",
       "            (    'Kenya',    'Stickers for Less',       'Kaggle Tiers'),\n",
       "            (    'Kenya',    'Stickers for Less',           'Kerneler'),\n",
       "            (    'Kenya',    'Stickers for Less', 'Kerneler Dark Mode'),\n",
       "            (    'Kenya', 'Premium Sticker Mart',  'Holographic Goose'),\n",
       "            (    'Kenya', 'Premium Sticker Mart',             'Kaggle'),\n",
       "            (    'Kenya', 'Premium Sticker Mart',       'Kaggle Tiers'),\n",
       "            (    'Kenya', 'Premium Sticker Mart',           'Kerneler'),\n",
       "            (    'Kenya', 'Premium Sticker Mart', 'Kerneler Dark Mode'),\n",
       "            (   'Norway',    'Discount Stickers',  'Holographic Goose'),\n",
       "            (   'Norway',    'Discount Stickers',             'Kaggle'),\n",
       "            (   'Norway',    'Discount Stickers',       'Kaggle Tiers'),\n",
       "            (   'Norway',    'Discount Stickers',           'Kerneler'),\n",
       "            (   'Norway',    'Discount Stickers', 'Kerneler Dark Mode'),\n",
       "            (   'Norway',    'Stickers for Less',  'Holographic Goose'),\n",
       "            (   'Norway',    'Stickers for Less',             'Kaggle'),\n",
       "            (   'Norway',    'Stickers for Less',       'Kaggle Tiers'),\n",
       "            (   'Norway',    'Stickers for Less',           'Kerneler'),\n",
       "            (   'Norway',    'Stickers for Less', 'Kerneler Dark Mode'),\n",
       "            (   'Norway', 'Premium Sticker Mart',  'Holographic Goose'),\n",
       "            (   'Norway', 'Premium Sticker Mart',             'Kaggle'),\n",
       "            (   'Norway', 'Premium Sticker Mart',       'Kaggle Tiers'),\n",
       "            (   'Norway', 'Premium Sticker Mart',           'Kerneler'),\n",
       "            (   'Norway', 'Premium Sticker Mart', 'Kerneler Dark Mode'),\n",
       "            ('Singapore',    'Discount Stickers',  'Holographic Goose'),\n",
       "            ('Singapore',    'Discount Stickers',             'Kaggle'),\n",
       "            ('Singapore',    'Discount Stickers',       'Kaggle Tiers'),\n",
       "            ('Singapore',    'Discount Stickers',           'Kerneler'),\n",
       "            ('Singapore',    'Discount Stickers', 'Kerneler Dark Mode'),\n",
       "            ('Singapore',    'Stickers for Less',  'Holographic Goose'),\n",
       "            ('Singapore',    'Stickers for Less',             'Kaggle'),\n",
       "            ('Singapore',    'Stickers for Less',       'Kaggle Tiers'),\n",
       "            ('Singapore',    'Stickers for Less',           'Kerneler'),\n",
       "            ('Singapore',    'Stickers for Less', 'Kerneler Dark Mode'),\n",
       "            ('Singapore', 'Premium Sticker Mart',  'Holographic Goose'),\n",
       "            ('Singapore', 'Premium Sticker Mart',             'Kaggle'),\n",
       "            ('Singapore', 'Premium Sticker Mart',       'Kaggle Tiers'),\n",
       "            ('Singapore', 'Premium Sticker Mart',           'Kerneler'),\n",
       "            ('Singapore', 'Premium Sticker Mart', 'Kerneler Dark Mode')],\n",
       "           names=['country', 'store', 'product'])"
      ]
     },
     "execution_count": 15,
     "metadata": {},
     "output_type": "execute_result"
    }
   ],
   "source": [
    "pivoted.columns"
   ]
  },
  {
   "cell_type": "code",
   "execution_count": null,
   "metadata": {},
   "outputs": [],
   "source": []
  }
 ],
 "metadata": {
  "kernelspec": {
   "display_name": "tradingClub",
   "language": "python",
   "name": "python3"
  },
  "language_info": {
   "codemirror_mode": {
    "name": "ipython",
    "version": 3
   },
   "file_extension": ".py",
   "mimetype": "text/x-python",
   "name": "python",
   "nbconvert_exporter": "python",
   "pygments_lexer": "ipython3",
   "version": "3.12.5"
  }
 },
 "nbformat": 4,
 "nbformat_minor": 2
}
