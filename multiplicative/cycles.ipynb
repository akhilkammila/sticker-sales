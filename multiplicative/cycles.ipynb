{
 "cells": [
  {
   "cell_type": "markdown",
   "metadata": {},
   "source": [
    "# Per product, the same cycle pattern emerges\n",
    "How to encode this simply (multiplying stuff)\n"
   ]
  },
  {
   "cell_type": "code",
   "execution_count": 2,
   "metadata": {},
   "outputs": [],
   "source": [
    "import pandas as pd\n",
    "import numpy as np\n",
    "import matplotlib.pyplot as plt\n",
    "import seaborn as sns\n",
    "import itertools\n",
    "import lightgbm as lgb\n",
    "from sklearn.metrics import mean_absolute_percentage_error"
   ]
  },
  {
   "cell_type": "code",
   "execution_count": 3,
   "metadata": {},
   "outputs": [],
   "source": [
    "DIRECTORY = '../data/'\n",
    "train = pd.read_csv(DIRECTORY + 'train.csv', parse_dates=['date']).drop(columns='id')"
   ]
  },
  {
   "cell_type": "code",
   "execution_count": 8,
   "metadata": {},
   "outputs": [],
   "source": [
    "train['day_of_year'] = train['date'].dt.day_of_year\n",
    "\n",
    "for product in train['product'].unique():\n",
    "    aggregated = train[train['product'] == product].groupby('day_of_year')['num_sold'].mean()\n",
    "    aggregated = aggregated / np.mean(aggregated)\n",
    "    aggregated.to_csv(f'../features/{product}_day_of_year.csv')"
   ]
  },
  {
   "cell_type": "code",
   "execution_count": 23,
   "metadata": {},
   "outputs": [],
   "source": [
    "train['day_of_week'] = train['date'].dt.day_of_week\n",
    "\n",
    "aggregated = train.groupby(['product', 'day_of_week'])['num_sold'].mean().unstack()\n",
    "aggregated = aggregated.div(np.mean(aggregated, axis=1), axis=0)\n",
    "aggregated.drop('Holographic Goose').mean(axis=0).to_csv('../features/day_of_week.csv')"
   ]
  }
 ],
 "metadata": {
  "kernelspec": {
   "display_name": "tradingClub",
   "language": "python",
   "name": "python3"
  },
  "language_info": {
   "codemirror_mode": {
    "name": "ipython",
    "version": 3
   },
   "file_extension": ".py",
   "mimetype": "text/x-python",
   "name": "python",
   "nbconvert_exporter": "python",
   "pygments_lexer": "ipython3",
   "version": "3.12.5"
  }
 },
 "nbformat": 4,
 "nbformat_minor": 2
}
